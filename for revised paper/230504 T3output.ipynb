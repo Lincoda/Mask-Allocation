{
 "cells": [
  {
   "cell_type": "markdown",
   "id": "25e3f142",
   "metadata": {},
   "source": [
    "# Probability Utility 的設定輸出"
   ]
  },
  {
   "cell_type": "code",
   "execution_count": 1,
   "id": "c2e1cc49",
   "metadata": {},
   "outputs": [],
   "source": [
    "from model_EndoU import *\n",
    "from OptT3_EndoU import *"
   ]
  },
  {
   "cell_type": "code",
   "execution_count": 2,
   "id": "1ab559c7",
   "metadata": {},
   "outputs": [],
   "source": [
    "def optimal_output(m=0.2,mask_supply=\"benchmark\",protect_set=\"benchmark\",S0=0.99,𝛾=1-(17/18)**14, α=0.0138):\n",
    "    \n",
    "    if mask_supply==\"benchmark\":\n",
    "        m0, m1, m2= m,m,m\n",
    "    elif mask_supply==\"growth\":\n",
    "        m0, m1, m2= m,m,1.15*m\n",
    "    elif mask_supply==\"init_stock\":\n",
    "        m0, m1, m2= 1.15*m,m,m\n",
    "        \n",
    "    if protect_set==\"benchmark\":\n",
    "        σn, δn = 0.7, 0.7\n",
    "        σo, δo = 0.5, 0.5\n",
    "    elif protect_set==\"lower_inward\":\n",
    "        σn, δn = 0.6, 0.7\n",
    "        σo, δo = 0.4, 0.5\n",
    "    elif protect_set==\"similar_prot\":\n",
    "        σn, δn = 0.7, 0.7\n",
    "        σo, δo = 0.69, 0.69\n",
    "    \n",
    "    optimal_model = nation_SIRD(S0=S0,σn=σn, σo=σo, δn=δn, δo=δo, 𝛾=𝛾, α=α)\n",
    "    obj,πA,πB,πA1,πB1,πA0,πB0 = optimal_model.find_optimal(m0=m0,m1=m1,m2=m2)\n",
    "    \n",
    "    return obj\n",
    "\n",
    "def output(mask_supply=\"benchmark\",protect_set=\"benchmark\",I=0.01,𝛾=1-(17/18)**14,𝛼=0.0138):\n",
    "    \n",
    "    m_vals=np.linspace(0.1,0.8,71)\n",
    "    \n",
    "    GRBT=map(lambda m: solve_GRBT(m,mask_supply,protect_set,I,𝛾,𝛼),m_vals)\n",
    "    GRBTdata= pd.DataFrame.from_records(list(GRBT), columns =['m',\n",
    "                                                              'share of sign up, without mask',\n",
    "                                                              'share of sign up, with mask',\n",
    "                                                              'ICphi','ICn',\n",
    "                                                              'πB','πA','πA0','πB0','πA1','πB1',\n",
    "                                                              'P2ϕ','P3ϕ','GRBT fatalities'])\n",
    "    SRA1=map(lambda m: solve_SRA1(m,mask_supply,protect_set,I,𝛾,𝛼),m_vals)\n",
    "    SRA1data= pd.DataFrame.from_records(list(SRA1), columns =['m','πB','πA','πA0','πB0','πA1','πB1','SRA1 fatalities'])\n",
    "\n",
    "    SRA2=map(lambda m: solve_SRA2(m,mask_supply,protect_set,I,𝛾,𝛼),m_vals)\n",
    "    SRA2data= pd.DataFrame.from_records(list(SRA2), columns =['m','πB','πA','πA0','πB0','πA1','πB1','SRA2 fatalities'])\n",
    "    \n",
    "    Optimal=map(lambda m: optimal_output(m,mask_supply,protect_set,1-I,𝛾,𝛼),m_vals)\n",
    "    Optldata= pd.Series(list(Optimal), name ='Optimal fatalities')\n",
    "    \n",
    "    # combined death levels and ICs of GRBT into new dataframe\n",
    "    df_combined = pd.concat([GRBTdata['m'],GRBTdata['ICphi'],GRBTdata['ICn'],\n",
    "                             GRBTdata['P2ϕ'],GRBTdata['P3ϕ'],\n",
    "                             GRBTdata['GRBT fatalities'],SRA1data['SRA1 fatalities'],\n",
    "                             SRA2data['SRA2 fatalities'],Optldata], axis=1)\n",
    "    df_combined = df_combined.rename(columns={'P2ϕ':'P2phi','P3ϕ':'P3phi'})\n",
    "    \n",
    "    return df_combined"
   ]
  },
  {
   "cell_type": "code",
   "execution_count": 3,
   "id": "f1bc714f",
   "metadata": {},
   "outputs": [],
   "source": [
    "graph1=output()\n",
    "graph1.to_csv('output/230504 EndoU benchmark, graph.csv')"
   ]
  },
  {
   "cell_type": "code",
   "execution_count": 4,
   "id": "74eabb9a",
   "metadata": {},
   "outputs": [],
   "source": [
    "graph2=output(mask_supply=\"growth\",protect_set=\"benchmark\")\n",
    "graph2.to_csv('output/230504 EndoU growth, graph.csv')"
   ]
  },
  {
   "cell_type": "code",
   "execution_count": 5,
   "id": "a254ca40",
   "metadata": {},
   "outputs": [],
   "source": [
    "graph3=output(mask_supply=\"init_stock\",protect_set=\"benchmark\")\n",
    "graph3.to_csv('output/230504 EndoU init_stock, graph.csv')"
   ]
  },
  {
   "cell_type": "code",
   "execution_count": 6,
   "id": "42214557",
   "metadata": {},
   "outputs": [],
   "source": [
    "graph4=output(mask_supply=\"benchmark\",protect_set=\"lower_inward\")\n",
    "graph4.to_csv('output/230504 EndoU lower_inward, graph.csv')"
   ]
  },
  {
   "cell_type": "code",
   "execution_count": 7,
   "id": "b6f3e4e6",
   "metadata": {},
   "outputs": [],
   "source": [
    "graph5=output(mask_supply=\"benchmark\",protect_set=\"similar_prot\")\n",
    "graph5.to_csv('output/230504 EndoU similar_prot, graph.csv')"
   ]
  },
  {
   "cell_type": "code",
   "execution_count": 8,
   "id": "4ee74b72",
   "metadata": {},
   "outputs": [],
   "source": [
    "graph6=output(mask_supply=\"benchmark\",protect_set=\"benchmark\",𝛾=0.9)\n",
    "graph6.to_csv('output/230504 EndoU gamma09, graph.csv')"
   ]
  },
  {
   "cell_type": "code",
   "execution_count": 9,
   "id": "c1d61932",
   "metadata": {},
   "outputs": [],
   "source": [
    "graph7=output(mask_supply=\"benchmark\",protect_set=\"benchmark\",I=0.3,α=1)\n",
    "graph7.to_csv('output/230504 EndoU extreme, graph.csv')"
   ]
  },
  {
   "cell_type": "code",
   "execution_count": 10,
   "id": "f0334411",
   "metadata": {},
   "outputs": [],
   "source": [
    "graph8=output(mask_supply=\"benchmark\",protect_set=\"benchmark\",α=1)\n",
    "graph8.to_csv('output/230504 EndoU alpha1, graph.csv')"
   ]
  },
  {
   "cell_type": "code",
   "execution_count": 11,
   "id": "2fcc09a5",
   "metadata": {},
   "outputs": [],
   "source": [
    "graph9=output(mask_supply=\"benchmark\",protect_set=\"benchmark\",I=0.3)\n",
    "graph9.to_csv('output/230504 EndoU I03, graph.csv')"
   ]
  },
  {
   "cell_type": "markdown",
   "id": "797ccf4e",
   "metadata": {},
   "source": [
    "# Benchmark Utility設定"
   ]
  },
  {
   "cell_type": "code",
   "execution_count": 1,
   "id": "466a32ea",
   "metadata": {},
   "outputs": [],
   "source": [
    "from model import *\n",
    "from OptT3_benchmark import *"
   ]
  },
  {
   "cell_type": "code",
   "execution_count": 2,
   "id": "888bb8e0",
   "metadata": {},
   "outputs": [],
   "source": [
    "def optimal_output(m=0.2,utility_set=\"benchmark\",mask_supply=\"benchmark\",protect_set=\"benchmark\",\n",
    "                   S0=0.99,𝛾=1-(17/18)**14, α=0.0138,𝛽=2.4/(18/14)):\n",
    "    \n",
    "    if mask_supply==\"benchmark\":\n",
    "        m0, m1, m2= m,m,m\n",
    "    elif mask_supply==\"growth\":\n",
    "        m0, m1, m2= m,m,1.15*m\n",
    "    elif mask_supply==\"init_stock\":\n",
    "        m0, m1, m2= 1.15*m,m,m\n",
    "        \n",
    "    if protect_set==\"benchmark\":\n",
    "        σn, δn = 0.7, 0.7\n",
    "        σo, δo = 0.5, 0.5\n",
    "    elif protect_set==\"lower_inward\":\n",
    "        σn, δn = 0.6, 0.7\n",
    "        σo, δo = 0.4, 0.5\n",
    "    elif protect_set==\"similar_prot\":\n",
    "        σn, δn = 0.7, 0.7\n",
    "        σo, δo = 0.69, 0.69\n",
    "    elif protect_set==\"zombie\":\n",
    "        σn, δn = 0.7, 1\n",
    "        σo, δo = 0.5, 1\n",
    "    elif protect_set==\"example\":\n",
    "        σn, δn = 1, 1\n",
    "        σo, δo = 1, 1\n",
    "        \n",
    "    if utility_set==\"benchmark\":\n",
    "        vn, vo, 𝜌 = 0.7, 0.5, 1\n",
    "    elif utility_set==\"denp_ut\":\n",
    "        vn, vo, 𝜌 = σn, σo, 1\n",
    "    elif utility_set==\"lower_disc\":\n",
    "        vn, vo, 𝜌 = 0.7, 0.5, 0.5\n",
    "    \n",
    "    optimal_model = nation_SIRD(S0=S0,σn=σn, σo=σo, δn=δn, δo=δo, 𝛽=𝛽, 𝛾=𝛾, v=vo/vn, ρ=ρ, α=α)\n",
    "    obj,πA,πB,πA1,πB1,πA0,πB0 = optimal_model.find_optimal(m0=m0,m1=m1,m2=m2)\n",
    "    \n",
    "    return obj,πA,πB,πA1,πB1,πA0,πB0\n",
    "\n",
    "def output(utility_set=\"benchmark\",mask_supply=\"benchmark\",protect_set=\"benchmark\",\n",
    "           I=0.01,𝛾=1-(17/18)**14,𝛼=0.0138,𝛽=2.4/(18/14)):\n",
    "    \n",
    "    m_vals=np.linspace(0.1,0.8,71)\n",
    "    \n",
    "    GRBT=map(lambda m: solve_GRBT(m,utility_set,mask_supply,protect_set,I,𝛾,𝛼,𝛽),m_vals)\n",
    "    GRBTdata= pd.DataFrame.from_records(list(GRBT), columns =['m',\n",
    "                                                              'share of sign up, without mask',\n",
    "                                                              'share of sign up, with mask',\n",
    "                                                              'ICphi','ICn',\n",
    "                                                              'πB','πA','πA0','πB0','πA1','πB1',\n",
    "                                                              'GRBT fatalities','Uphi','Un','Udiff','P2ϕ','P3ϕ'])\n",
    "    SRA1=map(lambda m: solve_SRA1(m,utility_set,mask_supply,protect_set,I,𝛾,𝛼,𝛽),m_vals)\n",
    "    SRA1data= pd.DataFrame.from_records(list(SRA1), columns =['m','πB','πA','πA0','πB0','πA1','πB1',\n",
    "                                                              'SRA1 fatalities','Uphi','Un','Udiff'])\n",
    "\n",
    "    SRA2=map(lambda m: solve_SRA2(m,utility_set,mask_supply,protect_set,I,𝛾,𝛼,𝛽),m_vals)\n",
    "    SRA2data= pd.DataFrame.from_records(list(SRA2), columns =['m','πB','πA','πA0','πB0','πA1','πB1',\n",
    "                                                              'SRA2 fatalities','Uphi','Un','Udiff'])\n",
    "    \n",
    "    Optimal=map(lambda m: optimal_output(m,utility_set,mask_supply,protect_set,1-I,𝛾,𝛼,𝛽),m_vals)\n",
    "    Optldata=pd.DataFrame.from_records(list(Optimal), columns =['Optimal fatalities','πA','πB','πA1','πB1','πA0','πB0'])\n",
    "\n",
    "    df_combined = pd.concat([GRBTdata['m'],GRBTdata['ICphi'],GRBTdata['ICn'],GRBTdata['P2ϕ'],GRBTdata['P3ϕ'],\n",
    "                             GRBTdata['GRBT fatalities'],SRA1data['SRA1 fatalities'],\n",
    "                             SRA2data['SRA2 fatalities'],Optldata['Optimal fatalities']], axis=1)\n",
    "    df_combined = df_combined.rename(columns={'P2ϕ':'P2phi','P3ϕ':'P3phi'})\n",
    "    \n",
    "    return df_combined"
   ]
  },
  {
   "cell_type": "code",
   "execution_count": 3,
   "id": "7fb31e95",
   "metadata": {},
   "outputs": [
    {
     "name": "stderr",
     "output_type": "stream",
     "text": [
      "D:\\google 雲端硬碟\\筆電\\code\\efficient facemask distribution\\model.py:105: RuntimeWarning: divide by zero encountered in double_scalars\n",
      "  πB = min(m1/πB_coef,1)\n",
      "D:\\google 雲端硬碟\\筆電\\code\\efficient facemask distribution\\model.py:114: RuntimeWarning: divide by zero encountered in double_scalars\n",
      "  πA0 = min(m2/π2_0_coef,1)\n"
     ]
    }
   ],
   "source": [
    "g1=output(utility_set=\"benchmark\",mask_supply=\"benchmark\",protect_set=\"benchmark\",I=0.3,α=1)\n",
    "g1.to_csv('output/230428 benchmarkU extreme, graph.csv')"
   ]
  },
  {
   "cell_type": "code",
   "execution_count": 4,
   "id": "34da2370",
   "metadata": {},
   "outputs": [
    {
     "name": "stderr",
     "output_type": "stream",
     "text": [
      "D:\\google 雲端硬碟\\筆電\\code\\efficient facemask distribution\\model.py:102: RuntimeWarning: divide by zero encountered in double_scalars\n",
      "  πB = min(m1/πB_coef,1)\n",
      "D:\\google 雲端硬碟\\筆電\\code\\efficient facemask distribution\\model.py:111: RuntimeWarning: divide by zero encountered in double_scalars\n",
      "  πA0 = min(m2/π2_0_coef,1)\n"
     ]
    }
   ],
   "source": [
    "graph1=output(utility_set=\"benchmark\",mask_supply=\"benchmark\",protect_set=\"benchmark\",I=0.01,α=1)\n",
    "graph1.to_csv('output/230428 benchmarkU alpha1, graph.csv')"
   ]
  },
  {
   "cell_type": "code",
   "execution_count": 5,
   "id": "f687dcb4",
   "metadata": {},
   "outputs": [
    {
     "name": "stderr",
     "output_type": "stream",
     "text": [
      "D:\\google 雲端硬碟\\筆電\\code\\efficient facemask distribution\\model.py:102: RuntimeWarning: divide by zero encountered in double_scalars\n",
      "  πB = min(m1/πB_coef,1)\n",
      "D:\\google 雲端硬碟\\筆電\\code\\efficient facemask distribution\\model.py:111: RuntimeWarning: divide by zero encountered in double_scalars\n",
      "  πA0 = min(m2/π2_0_coef,1)\n"
     ]
    }
   ],
   "source": [
    "graph1=output(utility_set=\"benchmark\",mask_supply=\"benchmark\",protect_set=\"benchmark\",I=0.3,α=0.0148)\n",
    "graph1.to_csv('output/230428 benchmarkU I03, graph.csv')"
   ]
  },
  {
   "cell_type": "code",
   "execution_count": 3,
   "id": "ea6dc847",
   "metadata": {},
   "outputs": [
    {
     "name": "stderr",
     "output_type": "stream",
     "text": [
      "D:\\google 雲端硬碟\\筆電\\code\\efficient facemask distribution\\model.py:105: RuntimeWarning: divide by zero encountered in double_scalars\n",
      "  πB = min(m1/πB_coef,1)\n",
      "D:\\google 雲端硬碟\\筆電\\code\\efficient facemask distribution\\model.py:114: RuntimeWarning: divide by zero encountered in double_scalars\n",
      "  πA0 = min(m2/π2_0_coef,1)\n"
     ]
    }
   ],
   "source": [
    "graph1=output(utility_set=\"benchmark\",mask_supply=\"benchmark\",protect_set=\"example\",𝛾=1,𝛼=1,𝛽=1)\n",
    "graph1.to_csv('output/230509 benchmarkU all1, graph.csv')"
   ]
  },
  {
   "cell_type": "code",
   "execution_count": null,
   "id": "71f94476",
   "metadata": {},
   "outputs": [],
   "source": []
  }
 ],
 "metadata": {
  "kernelspec": {
   "display_name": "Python 3 (ipykernel)",
   "language": "python",
   "name": "python3"
  },
  "language_info": {
   "codemirror_mode": {
    "name": "ipython",
    "version": 3
   },
   "file_extension": ".py",
   "mimetype": "text/x-python",
   "name": "python",
   "nbconvert_exporter": "python",
   "pygments_lexer": "ipython3",
   "version": "3.9.13"
  }
 },
 "nbformat": 4,
 "nbformat_minor": 5
}
