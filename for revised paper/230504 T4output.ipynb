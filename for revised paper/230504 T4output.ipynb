{
 "cells": [
  {
   "cell_type": "code",
   "execution_count": 1,
   "id": "44967789",
   "metadata": {},
   "outputs": [],
   "source": [
    "from model_TimeEXT_EndoU import *\n",
    "from OptT4_EndoU import *"
   ]
  },
  {
   "cell_type": "code",
   "execution_count": 2,
   "id": "4a375613",
   "metadata": {},
   "outputs": [],
   "source": [
    "def optimal_output(m=0.2,S0=0.99,𝛾=1-(17/18)**10, α=0.0138):\n",
    "    \n",
    "    m0, m1, m2, m3= m,m,m,m\n",
    "    σn, δn = 0.7, 0.7\n",
    "    σo, δo = 0.5, 0.5\n",
    "    vn, vo, 𝜌 = 0.7, 0.5, 1\n",
    "    obj,πA,πB,πA1,πB1,πA0,πB0,πA11,πB11,πA10,πB10,πA01,πB01,πA00,πB00 = nation_SIRD(m0=m0,m1=m1,m2=m2,m3=m3,\n",
    "                                                                                    S0=S0,\n",
    "                                                                                    σn=σn, σo=σo, \n",
    "                                                                                    δn=δn, δo=δo, \n",
    "                                                                                    𝛾=𝛾, v=vo/vn, ρ=ρ, α=α)\n",
    "  \n",
    "    return obj\n",
    "\n",
    "def output(I=0.01,𝛾=1-(17/18)**10,𝛼=0.0138):\n",
    "    \n",
    "    m_vals=np.linspace(0.1,0.8,71)\n",
    "    \n",
    "    GRBT=map(lambda m: solve_GRBT(m,I,𝛾,𝛼),m_vals)\n",
    "    GRBTdata= pd.DataFrame.from_records(list(GRBT), columns =['m',\n",
    "                                                              'share of sign up, without mask',\n",
    "                                                              'share of sign up, with mask',\n",
    "                                                              'ICphi','ICn',\n",
    "                                                              'πB','πA','πA0','πB0','πA1','πB1',\n",
    "                                                              'πA00','πB00','πA01','πA10',\n",
    "                                                              'πB01','πB10','πA11','πB11',\n",
    "                                                              'GRBT fatalities'])\n",
    "    SRA1=map(lambda m: solve_SRA1(m,I,𝛾,𝛼),m_vals)\n",
    "    SRA1data= pd.DataFrame.from_records(list(SRA1), columns =['m','π1','π2','π3','SRA1 fatalities'])\n",
    "\n",
    "    SRA2=map(lambda m: solve_SRA2(m,I,𝛾,𝛼),m_vals)\n",
    "    SRA2data= pd.DataFrame.from_records(list(SRA2), columns =['m','π1','π20','π21','π30','π31','π32','SRA2 fatalities'])\n",
    "    \n",
    "    Optimal=map(lambda m: optimal_output(m,1-I,𝛾,𝛼),m_vals)\n",
    "    Optldata= pd.Series(list(Optimal), name ='Optimal fatalities')\n",
    "    \n",
    "    # combined death levels and ICs of GRBT into new dataframe\n",
    "    df_combined = pd.concat([GRBTdata['m'],GRBTdata['ICphi'],GRBTdata['ICn'],\n",
    "                             GRBTdata['GRBT fatalities'],SRA1data['SRA1 fatalities'],\n",
    "                             SRA2data['SRA2 fatalities'],Optldata], axis=1)\n",
    "    return df_combined"
   ]
  },
  {
   "cell_type": "code",
   "execution_count": 3,
   "id": "b8150aa9",
   "metadata": {},
   "outputs": [],
   "source": [
    "g=output()\n",
    "g.to_csv('output/230504 EndoU T4, graph.csv')"
   ]
  },
  {
   "cell_type": "code",
   "execution_count": null,
   "id": "d93e02f4",
   "metadata": {},
   "outputs": [],
   "source": []
  }
 ],
 "metadata": {
  "kernelspec": {
   "display_name": "Python 3 (ipykernel)",
   "language": "python",
   "name": "python3"
  },
  "language_info": {
   "codemirror_mode": {
    "name": "ipython",
    "version": 3
   },
   "file_extension": ".py",
   "mimetype": "text/x-python",
   "name": "python",
   "nbconvert_exporter": "python",
   "pygments_lexer": "ipython3",
   "version": "3.9.13"
  }
 },
 "nbformat": 4,
 "nbformat_minor": 5
}
